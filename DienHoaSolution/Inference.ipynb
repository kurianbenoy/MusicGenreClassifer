{
 "cells": [
  {
   "cell_type": "markdown",
   "id": "add5294f",
   "metadata": {},
   "source": [
    "# Inference pipeline for DHoa's first place model\n",
    "\n",
    "The input for this model: audio file in ogg format\n",
    "\n",
    "Output: Predicted music genre\n",
    "\n",
    "The first place solution briefly [described here](https://www.kaggle.com/competitions/kaggle-pog-series-s01e02/discussion/321281)"
   ]
  },
  {
   "cell_type": "code",
   "execution_count": 1,
   "id": "7cd84758",
   "metadata": {},
   "outputs": [],
   "source": [
    "! pip install -Uqq huggingface_hub fastai kornia==0.5.8"
   ]
  },
  {
   "cell_type": "code",
   "execution_count": 1,
   "id": "a9d5b252",
   "metadata": {},
   "outputs": [],
   "source": [
    "from huggingface_hub import hf_hub_download\n",
    "from fastai.vision.all import *\n",
    "from fastai.learner import load_learner\n",
    "\n",
    "import kornia"
   ]
  },
  {
   "cell_type": "code",
   "execution_count": 3,
   "id": "5df5987c",
   "metadata": {},
   "outputs": [],
   "source": [
    "class ReflectionCrop(RandomCrop):\n",
    "    def encodes(self, x:(Image.Image,TensorBBox,TensorPoint)):\n",
    "        return x.crop_pad(self.size, self.tl, orig_sz=self.orig_sz, pad_mode=PadMode.Reflection)"
   ]
  },
  {
   "cell_type": "code",
   "execution_count": 4,
   "id": "eb706e4f",
   "metadata": {},
   "outputs": [],
   "source": [
    "def get_y(filename):\n",
    "    resample_name = filename.stem + '.ogg'\n",
    "    return df_train[df_train['filename']==resample_name]['genre'].values[0]"
   ]
  },
  {
   "cell_type": "code",
   "execution_count": 5,
   "id": "541eb371",
   "metadata": {},
   "outputs": [],
   "source": [
    "class CustomDataBlock(DataBlock):\n",
    "    def datasets(self:DataBlock, source, verbose=False, splits=None):\n",
    "        self.source = source                     ; pv(f\"Collecting items from {source}\", verbose)\n",
    "        items = (self.get_items or noop)(source) ; pv(f\"Found {len(items)} items\", verbose)\n",
    "        pv(f\"{len(splits)} datasets of sizes {','.join([str(len(s)) for s in splits])}\", verbose)\n",
    "        return Datasets(items, tfms=self._combine_type_tfms(), splits=splits, dl_type=self.dl_type, n_inp=self.n_inp, verbose=verbose)\n",
    "    def dataloaders(self, source, path='.', verbose=False, splits=None, **kwargs):\n",
    "        dsets = self.datasets(source, verbose=verbose, splits=splits)\n",
    "        kwargs = {**self.dls_kwargs, **kwargs, 'verbose': verbose}\n",
    "        return dsets.dataloaders(path=path, after_item=self.item_tfms, after_batch=self.batch_tfms, **kwargs)"
   ]
  },
  {
   "cell_type": "code",
   "execution_count": 6,
   "id": "58d78606",
   "metadata": {},
   "outputs": [],
   "source": [
    "def convert_MP_to_blurMP(model, layer_type_old):\n",
    "    conversion_count = 0\n",
    "    for name, module in reversed(model._modules.items()):\n",
    "        if len(list(module.children())) > 0:\n",
    "            # recurse\n",
    "            model._modules[name] = convert_MP_to_blurMP(module, layer_type_old)\n",
    "\n",
    "        if type(module) == layer_type_old:\n",
    "            layer_old = module\n",
    "            layer_new = kornia.contrib.MaxBlurPool2d(3, True)\n",
    "            model._modules[name] = layer_new\n",
    "\n",
    "    return model"
   ]
  },
  {
   "cell_type": "code",
   "execution_count": 7,
   "id": "455b8d6e",
   "metadata": {},
   "outputs": [],
   "source": [
    "filenames = [\"learn_export_0.pkl\", \"learn_export_1.pkl\", \"learn_export_2.pkl\", \"learn_export_3.pkl\",\n",
    "             \"learn_export_4.pkl\", \"learn_export_5.pkl\", \"learn_export_6.pkl\", \"learn_export_101_0.pkl\",\n",
    "             \"learn_export_101_1.pkl\"]\n",
    "\n",
    "learns = [load_learner(\n",
    "    hf_hub_download(\"kurianbenoy/inference-music-genre-dhoa\", f)\n",
    ") for f in filenames]"
   ]
  },
  {
   "cell_type": "code",
   "execution_count": 8,
   "id": "a68a3b09",
   "metadata": {},
   "outputs": [
    {
     "data": {
      "text/plain": [
       "9"
      ]
     },
     "execution_count": 8,
     "metadata": {},
     "output_type": "execute_result"
    }
   ],
   "source": [
    "len(learns)"
   ]
  },
  {
   "cell_type": "code",
   "execution_count": 9,
   "id": "a753f166",
   "metadata": {},
   "outputs": [],
   "source": [
    "_before_epoch = [event.before_fit, event.before_epoch]\n",
    "_after_epoch  = [event.after_epoch, event.after_fit]\n",
    "\n",
    "@patch\n",
    "def ttacustom(self:Learner, ds_idx=1, dl=None, n=4, item_tfms=None, batch_tfms=None, beta=0.25, use_max=False):\n",
    "    \"Return predictions on the `ds_idx` dataset or `dl` using Test Time Augmentation\"\n",
    "    if dl is None: dl = self.dls[ds_idx].new(shuffled=False, drop_last=False)\n",
    "    if item_tfms is not None or batch_tfms is not None: dl = dl.new(after_item=item_tfms, after_batch=batch_tfms)\n",
    "    try:\n",
    "        self(_before_epoch)\n",
    "        with dl.dataset.set_split_idx(0), self.no_mbar():\n",
    "            if hasattr(self,'progress'): self.progress.mbar = master_bar(list(range(n)))\n",
    "            aug_preds = []\n",
    "            for i in self.progress.mbar if hasattr(self,'progress') else range(n):\n",
    "                self.epoch = i #To keep track of progress on mbar since the progress callback will use self.epoch\n",
    "                preds = self.get_preds(dl=dl, inner=True)[0][None]\n",
    "                preds_idx = preds.squeeze().argmax(1)\n",
    "                aug_preds.append(preds_idx)\n",
    "#         aug_preds = torch.cat(aug_preds)\n",
    "#         aug_preds = aug_preds.max(0)[0] if use_max else aug_preds.mean(0)\n",
    "#         self.epoch = n\n",
    "#         with dl.dataset.set_split_idx(1): preds,targs = self.get_preds(dl=dl, inner=True)\n",
    "    finally: self(event.after_fit)\n",
    "\n",
    "#     if use_max: return torch.stack([preds, aug_preds], 0).max(0)[0],targs\n",
    "#     preds = (aug_preds,preds) if beta is None else torch.lerp(aug_preds, preds, beta)\n",
    "    return aug_preds"
   ]
  },
  {
   "cell_type": "code",
   "execution_count": null,
   "id": "f91efda9",
   "metadata": {},
   "outputs": [],
   "source": []
  }
 ],
 "metadata": {
  "kernelspec": {
   "display_name": "Python 3 (ipykernel)",
   "language": "python",
   "name": "python3"
  },
  "language_info": {
   "codemirror_mode": {
    "name": "ipython",
    "version": 3
   },
   "file_extension": ".py",
   "mimetype": "text/x-python",
   "name": "python",
   "nbconvert_exporter": "python",
   "pygments_lexer": "ipython3",
   "version": "3.8.12"
  }
 },
 "nbformat": 4,
 "nbformat_minor": 5
}
